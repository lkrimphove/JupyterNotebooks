{
 "cells": [
  {
   "cell_type": "code",
   "execution_count": 1,
   "metadata": {},
   "outputs": [],
   "source": [
    "INPUT = 'input.txt'\n",
    "\n",
    "file = open(INPUT, 'r')\n",
    "lines = file.readlines()"
   ]
  },
  {
   "cell_type": "code",
   "execution_count": 9,
   "metadata": {},
   "outputs": [
    {
     "name": "stdout",
     "output_type": "stream",
     "text": [
      "2685\n"
     ]
    }
   ],
   "source": [
    "# PART ONE\n",
    "\n",
    "def is_possible(reveals):\n",
    "    # The Elf would first like to know which games would have been possible\n",
    "    # if the bag contained only 12 red cubes, 13 green cubes, and 14 blue cubes\n",
    "\n",
    "    if 'red' in reveals:\n",
    "        if max(reveals['red']) > 12:\n",
    "            return False\n",
    "        \n",
    "    if 'green' in reveals:\n",
    "        if max(reveals['green']) > 13:\n",
    "            return False\n",
    "        \n",
    "    if 'blue' in reveals:\n",
    "        if max(reveals['blue']) > 14:\n",
    "            return False\n",
    "    \n",
    "    return True\n",
    "\n",
    "sum = 0\n",
    "for line in lines:\n",
    "    reveals = {}\n",
    "\n",
    "    line = line.strip().split(':')\n",
    "    game_id = int(line[0].split(' ')[-1])\n",
    "    game_data = line[-1]\n",
    "    for subset in game_data.split(';'):\n",
    "        for reveal in subset.split(','):\n",
    "            reveal = reveal.strip().split(' ')\n",
    "            count = int(reveal[0])\n",
    "            colour = reveal[-1]\n",
    "\n",
    "            if colour not in reveals:\n",
    "                reveals[colour] = []\n",
    "            reveals[colour].append(count)\n",
    "    \n",
    "    if (is_possible(reveals)):\n",
    "        sum += game_id\n",
    "\n",
    "print(sum)"
   ]
  },
  {
   "cell_type": "code",
   "execution_count": 10,
   "metadata": {},
   "outputs": [
    {
     "name": "stdout",
     "output_type": "stream",
     "text": [
      "83707\n"
     ]
    }
   ],
   "source": [
    "# PART TWO\n",
    "\n",
    "sum = 0\n",
    "for line in lines:\n",
    "    reveals = {}\n",
    "\n",
    "    line = line.strip().split(':')\n",
    "    game_id = int(line[0].split(' ')[-1])\n",
    "    game_data = line[-1]\n",
    "    for subset in game_data.split(';'):\n",
    "        for reveal in subset.split(','):\n",
    "            reveal = reveal.strip().split(' ')\n",
    "            count = int(reveal[0])\n",
    "            colour = reveal[-1]\n",
    "\n",
    "            if colour not in reveals:\n",
    "                reveals[colour] = []\n",
    "            reveals[colour].append(count)\n",
    "    \n",
    "    power = max(reveals['red']) * max(reveals['green']) * max(reveals['blue'])\n",
    "    sum += power\n",
    "\n",
    "print(sum)\n"
   ]
  },
  {
   "cell_type": "code",
   "execution_count": null,
   "metadata": {},
   "outputs": [],
   "source": []
  }
 ],
 "metadata": {
  "kernelspec": {
   "display_name": "env",
   "language": "python",
   "name": "python3"
  },
  "language_info": {
   "codemirror_mode": {
    "name": "ipython",
    "version": 3
   },
   "file_extension": ".py",
   "mimetype": "text/x-python",
   "name": "python",
   "nbconvert_exporter": "python",
   "pygments_lexer": "ipython3",
   "version": "3.11.4"
  },
  "orig_nbformat": 4
 },
 "nbformat": 4,
 "nbformat_minor": 2
}
