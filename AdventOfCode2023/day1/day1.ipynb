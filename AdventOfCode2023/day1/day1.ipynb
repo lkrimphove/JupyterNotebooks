{
 "cells": [
  {
   "cell_type": "code",
   "execution_count": 1,
   "metadata": {},
   "outputs": [],
   "source": [
    "INPUT = 'input.txt'\n",
    "\n",
    "file = open(INPUT, 'r')\n",
    "lines = file.readlines()"
   ]
  },
  {
   "cell_type": "code",
   "execution_count": 2,
   "metadata": {},
   "outputs": [
    {
     "name": "stdout",
     "output_type": "stream",
     "text": [
      "55090\n"
     ]
    }
   ],
   "source": [
    "# PART ONE\n",
    "\n",
    "sum = 0\n",
    "for line in lines:\n",
    "    digits = ''.join(filter(str.isdigit, line))\n",
    "    value = int(digits[0] + digits[-1])\n",
    "    sum += value\n",
    "\n",
    "print(sum)"
   ]
  },
  {
   "cell_type": "code",
   "execution_count": 3,
   "metadata": {},
   "outputs": [
    {
     "name": "stdout",
     "output_type": "stream",
     "text": [
      "54845\n"
     ]
    }
   ],
   "source": [
    "# PART TWO\n",
    "\n",
    "words = {\n",
    "    # there will also be words like sevenine\n",
    "    # where the last letter is also a first letter\n",
    "    'one': 'o1e',\n",
    "    'two': 't2o',\n",
    "    'three': 't3e',\n",
    "    'four': 'f4r',\n",
    "    'five': 'f5e',\n",
    "    'six': 's6x',\n",
    "    'seven': 's7n',\n",
    "    'eight': 'e8t',\n",
    "    'nine': 'n9e'\n",
    "}\n",
    "\n",
    "sum = 0\n",
    "for line in lines:\n",
    "    for old, new in words.items():\n",
    "        line = line.replace(old, new)\n",
    "    \n",
    "    digits = ''.join(filter(str.isdigit, line))\n",
    "    value = int(digits[0] + digits[-1])\n",
    "    sum += value\n",
    "\n",
    "print(sum)\n"
   ]
  },
  {
   "cell_type": "code",
   "execution_count": null,
   "metadata": {},
   "outputs": [],
   "source": []
  }
 ],
 "metadata": {
  "kernelspec": {
   "display_name": "env",
   "language": "python",
   "name": "python3"
  },
  "language_info": {
   "codemirror_mode": {
    "name": "ipython",
    "version": 3
   },
   "file_extension": ".py",
   "mimetype": "text/x-python",
   "name": "python",
   "nbconvert_exporter": "python",
   "pygments_lexer": "ipython3",
   "version": "3.11.4"
  },
  "orig_nbformat": 4
 },
 "nbformat": 4,
 "nbformat_minor": 2
}
